{
  "nbformat": 4,
  "nbformat_minor": 0,
  "metadata": {
    "colab": {
      "name": "ssd_mobilenet_v1_0.75_depth_quantized_300x300_pets_sync.ipynb",
      "version": "0.3.2",
      "provenance": [],
      "private_outputs": true,
      "collapsed_sections": [],
      "toc_visible": true,
      "include_colab_link": true
    },
    "language_info": {
      "codemirror_mode": {
        "name": "ipython",
        "version": 3
      },
      "file_extension": ".py",
      "mimetype": "text/x-python",
      "name": "python",
      "nbconvert_exporter": "python",
      "pygments_lexer": "ipython3",
      "version": "3.7.1"
    },
    "kernelspec": {
      "name": "python2",
      "display_name": "Python 2"
    },
    "accelerator": "GPU"
  },
  "cells": [
    {
      "cell_type": "markdown",
      "metadata": {
        "id": "view-in-github",
        "colab_type": "text"
      },
      "source": [
        "<a href=\"https://colab.research.google.com/github/tardigrades2/jupyter-notebook/blob/master/ssd_mobilenet_v1_0_75_depth_quantized_300x300_pets_sync.ipynb\" target=\"_parent\"><img src=\"https://colab.research.google.com/assets/colab-badge.svg\" alt=\"Open In Colab\"/></a>"
      ]
    },
    {
      "cell_type": "markdown",
      "metadata": {
        "id": "zydMyYbbMWYJ",
        "colab_type": "text"
      },
      "source": [
        "# 1.Change model name and config file name"
      ]
    },
    {
      "cell_type": "code",
      "metadata": {
        "id": "_FAr3141MEYW",
        "colab_type": "code",
        "colab": {}
      },
      "source": [
        "# Pre-train model name to download\n",
        "%env MODEL_NAME=ssd_mobilenet_v1_0.75_depth_quantized_300x300_coco14_sync_2018_07_18"
      ],
      "execution_count": 0,
      "outputs": []
    },
    {
      "cell_type": "code",
      "metadata": {
        "id": "TPrnrnLxMIJe",
        "colab_type": "code",
        "colab": {}
      },
      "source": [
        "# Copy sample config file from model zoo, you can create a file for yourself\n",
        "%env CONFIG_FILE=ssd_mobilenet_v1_0.75_depth_quantized_300x300_pets_sync"
      ],
      "execution_count": 0,
      "outputs": []
    },
    {
      "cell_type": "markdown",
      "metadata": {
        "colab_type": "text",
        "id": "Ngna4vVei130"
      },
      "source": [
        "# 2.Install prerequisites\n",
        "Follow: https://github.com/tensorflow/models/blob/master/research/object_detection/g3doc/installation.md\n"
      ]
    },
    {
      "cell_type": "code",
      "metadata": {
        "colab_type": "code",
        "id": "OSh9hsV_i5Ts",
        "colab": {}
      },
      "source": [
        "!apt-get install protobuf-compiler python-pil python-lxml python-tk\n",
        "!pip install Cython\n",
        "!pip install jupyter\n",
        "!pip install matplotlib"
      ],
      "execution_count": 0,
      "outputs": []
    },
    {
      "cell_type": "code",
      "metadata": {
        "colab_type": "code",
        "id": "xww77OlCjsrR",
        "colab": {}
      },
      "source": [
        "!git clone https://github.com/tensorflow/models.git"
      ],
      "execution_count": 0,
      "outputs": []
    },
    {
      "cell_type": "code",
      "metadata": {
        "colab_type": "code",
        "id": "9IOUGOUdjZjd",
        "colab": {}
      },
      "source": [
        "!git clone https://github.com/cocodataset/cocoapi.git\n",
        "!cd cocoapi/PythonAPI; make; cp -r pycocotools /content/models/research/"
      ],
      "execution_count": 0,
      "outputs": []
    },
    {
      "cell_type": "code",
      "metadata": {
        "colab_type": "code",
        "id": "7kmTOsQjklHn",
        "colab": {}
      },
      "source": [
        "cd /content/models/research"
      ],
      "execution_count": 0,
      "outputs": []
    },
    {
      "cell_type": "code",
      "metadata": {
        "colab_type": "code",
        "id": "FYIQ7mtGlRge",
        "colab": {}
      },
      "source": [
        "%set_env PYTHONPATH=/content/models/research:/content/models/research/slim"
      ],
      "execution_count": 0,
      "outputs": []
    },
    {
      "cell_type": "code",
      "metadata": {
        "colab_type": "code",
        "id": "jmV6kTDelYAm",
        "colab": {}
      },
      "source": [
        "!protoc object_detection/protos/*.proto --python_out=."
      ],
      "execution_count": 0,
      "outputs": []
    },
    {
      "cell_type": "markdown",
      "metadata": {
        "colab_type": "text",
        "id": "nijcr-74lluJ"
      },
      "source": [
        "## Test the API"
      ]
    },
    {
      "cell_type": "code",
      "metadata": {
        "colab_type": "code",
        "id": "ERPcaygWloQi",
        "colab": {}
      },
      "source": [
        "!python object_detection/builders/model_builder_test.py"
      ],
      "execution_count": 0,
      "outputs": []
    },
    {
      "cell_type": "markdown",
      "metadata": {
        "id": "nIDxvRGfDV_P",
        "colab_type": "text"
      },
      "source": [
        "# 3.Prepare input data"
      ]
    },
    {
      "cell_type": "markdown",
      "metadata": {
        "colab_type": "text",
        "id": "uTsdEA_qoDFn"
      },
      "source": [
        "## Get the oxford pets dataset"
      ]
    },
    {
      "cell_type": "code",
      "metadata": {
        "colab_type": "code",
        "id": "sElvX3hkoFwE",
        "colab": {}
      },
      "source": [
        "!wget http://www.robots.ox.ac.uk/~vgg/data/pets/data/images.tar.gz\n",
        "!wget http://www.robots.ox.ac.uk/~vgg/data/pets/data/annotations.tar.gz\n",
        "!tar -xvf images.tar.gz\n",
        "!tar -xvf annotations.tar.gz"
      ],
      "execution_count": 0,
      "outputs": []
    },
    {
      "cell_type": "markdown",
      "metadata": {
        "colab_type": "text",
        "id": "_42zWdr6oe0-"
      },
      "source": [
        "## Build tfrecords"
      ]
    },
    {
      "cell_type": "code",
      "metadata": {
        "colab_type": "code",
        "id": "8xR0J6R5oWV7",
        "colab": {}
      },
      "source": [
        "!python object_detection/dataset_tools/create_pet_tf_record.py \\\n",
        "    --label_map_path=object_detection/data/pet_label_map.pbtxt \\\n",
        "    --data_dir=`pwd` \\\n",
        "    --output_dir=`pwd`\n",
        "!ls *.record*"
      ],
      "execution_count": 0,
      "outputs": []
    },
    {
      "cell_type": "markdown",
      "metadata": {
        "id": "UxFyGTJSDpHn",
        "colab_type": "text"
      },
      "source": [
        "# 4.Prepare model and config"
      ]
    },
    {
      "cell_type": "markdown",
      "metadata": {
        "colab_type": "text",
        "id": "SpqfbgBwo4fV"
      },
      "source": [
        "## Get the pre-trained model for transfer learning"
      ]
    },
    {
      "cell_type": "code",
      "metadata": {
        "colab_type": "code",
        "id": "r7D72hCio9LA",
        "colab": {}
      },
      "source": [
        "!wget http://download.tensorflow.org/models/object_detection/${MODEL_NAME}.tar.gz\n",
        "!tar -xvf ${MODEL_NAME}.tar.gz\n",
        "!cp ${MODEL_NAME}/model.ckpt.* ."
      ],
      "execution_count": 0,
      "outputs": []
    },
    {
      "cell_type": "markdown",
      "metadata": {
        "colab_type": "text",
        "id": "Gxvd0lTBpZwN"
      },
      "source": [
        "## Get the config file and edit it to have the right directories"
      ]
    },
    {
      "cell_type": "code",
      "metadata": {
        "colab_type": "code",
        "id": "grATff40pg1Y",
        "colab": {}
      },
      "source": [
        "!cp object_detection/samples/configs/${CONFIG_FILE}.config .\n",
        "# Change config file content\n",
        "!sed -i \"s|PATH_TO_BE_CONFIGURED|/content/models/research|g\" ${CONFIG_FILE}.config\n",
        "!sed -i \"s|/content/models/research/pet_label_map.pbtxt|/content/models/research/object_detection/data/pet_label_map.pbtxt|g\" ${CONFIG_FILE}.config\n",
        "!sed -i \"s|/content/models/research/pet_train.record|/content/models/research/pet_faces_train.record|g\" ${CONFIG_FILE}.config\n",
        "!sed -i \"s|/content/models/research/pet_val.record|/content/models/research/pet_faces_val.record|g\" ${CONFIG_FILE}.config\n",
        "!sed -i \"s|128|28|g\" ${CONFIG_FILE}.config"
      ],
      "execution_count": 0,
      "outputs": []
    },
    {
      "cell_type": "markdown",
      "metadata": {
        "colab_type": "text",
        "id": "DHu5x0pErOJk"
      },
      "source": [
        "# 5.Run Tensorboard via ngrok"
      ]
    },
    {
      "cell_type": "code",
      "metadata": {
        "colab_type": "code",
        "id": "aNkzLnDvrv9x",
        "colab": {}
      },
      "source": [
        "! wget https://bin.equinox.io/c/4VmDzA7iaHb/ngrok-stable-linux-amd64.zip\n",
        "! unzip ngrok-stable-linux-amd64.zip"
      ],
      "execution_count": 0,
      "outputs": []
    },
    {
      "cell_type": "code",
      "metadata": {
        "colab_type": "code",
        "id": "AZtJtCRMrZcb",
        "colab": {}
      },
      "source": [
        "get_ipython().system_raw('tensorboard --logdir /content/models/research --host 0.0.0.0 --port 6006 &')\n"
      ],
      "execution_count": 0,
      "outputs": []
    },
    {
      "cell_type": "code",
      "metadata": {
        "colab_type": "code",
        "id": "tRW9_GtGrzIp",
        "colab": {}
      },
      "source": [
        "get_ipython().system_raw('./ngrok http 6006 &')"
      ],
      "execution_count": 0,
      "outputs": []
    },
    {
      "cell_type": "code",
      "metadata": {
        "colab_type": "code",
        "id": "UdGiCE1Wr9sw",
        "colab": {}
      },
      "source": [
        "! curl -s http://localhost:4040/api/tunnels | python3 -c \\\n",
        "    \"import sys, json; print(json.load(sys.stdin)['tunnels'][0]['public_url'])\""
      ],
      "execution_count": 0,
      "outputs": []
    },
    {
      "cell_type": "markdown",
      "metadata": {
        "colab_type": "text",
        "id": "x4odEgNLt9sY"
      },
      "source": [
        "# 6.Train the model"
      ]
    },
    {
      "cell_type": "code",
      "metadata": {
        "colab_type": "code",
        "id": "Ss5HB8tvuzt1",
        "colab": {}
      },
      "source": [
        "!mkdir train"
      ],
      "execution_count": 0,
      "outputs": []
    },
    {
      "cell_type": "code",
      "metadata": {
        "colab_type": "code",
        "id": "lMhKN3W1uGAh",
        "colab": {}
      },
      "source": [
        "!python /content/models/research/object_detection/model_main.py \\\n",
        "    --pipeline_config_path=/content/models/research/${CONFIG_FILE}.config \\\n",
        "    --model_dir=/content/models/research/train \\\n",
        "    --alsologtostderr \\\n",
        "    --num_train_steps=200000 \\\n",
        "    --num_eval_steps=1000"
      ],
      "execution_count": 0,
      "outputs": []
    },
    {
      "cell_type": "markdown",
      "metadata": {
        "id": "4f4pZ2ZlCr-Q",
        "colab_type": "text"
      },
      "source": [
        "# 7.Download model"
      ]
    },
    {
      "cell_type": "markdown",
      "metadata": {
        "colab_type": "text",
        "id": "pdY1j84PlzBR"
      },
      "source": [
        "## Convert last checkpoint into a model\n"
      ]
    },
    {
      "cell_type": "code",
      "metadata": {
        "colab_type": "code",
        "id": "JY5oX6ezmz2i",
        "colab": {}
      },
      "source": [
        "!rm -r  exported_graphs; mkdir exported_graphs"
      ],
      "execution_count": 0,
      "outputs": []
    },
    {
      "cell_type": "code",
      "metadata": {
        "id": "5Q-dgbucNflz",
        "colab_type": "code",
        "colab": {}
      },
      "source": [
        "%env CHECKPOINT_NUMBER=12526"
      ],
      "execution_count": 0,
      "outputs": []
    },
    {
      "cell_type": "code",
      "metadata": {
        "colab_type": "code",
        "id": "pbh3atgmlyRM",
        "colab": {}
      },
      "source": [
        "!python object_detection/export_inference_graph.py \\\n",
        "    --input_type image_tensor \\\n",
        "    --pipeline_config_path ${CONFIG_FILE}.config \\\n",
        "    --trained_checkpoint_prefix train/model.ckpt-${CHECKPOINT_NUMBER} \\\n",
        "    --output_directory exported_graphs"
      ],
      "execution_count": 0,
      "outputs": []
    },
    {
      "cell_type": "markdown",
      "metadata": {
        "id": "5gaWvfmz-Par",
        "colab_type": "text"
      },
      "source": [
        "## Upload to GG Drive"
      ]
    },
    {
      "cell_type": "markdown",
      "metadata": {
        "colab_type": "text",
        "id": "XUPj5RxSnKzR"
      },
      "source": [
        "### Compress the graph"
      ]
    },
    {
      "cell_type": "code",
      "metadata": {
        "colab_type": "code",
        "id": "9YTSNQrenP09",
        "colab": {}
      },
      "source": [
        "!tar -zcvf ssd_mobilenet_v1_0.75_depth_quantized_300x300_pets_sync.tar.gz exported_graphs"
      ],
      "execution_count": 0,
      "outputs": []
    },
    {
      "cell_type": "markdown",
      "metadata": {
        "colab_type": "text",
        "id": "HfidoWcvp8BY"
      },
      "source": [
        "### Prepare for upload to GG Drive"
      ]
    },
    {
      "cell_type": "code",
      "metadata": {
        "colab_type": "code",
        "id": "1RkeKGx5qEXl",
        "colab": {}
      },
      "source": [
        "# Install the PyDrive wrapper & import libraries.\n",
        "# This only needs to be done once in a notebook.\n",
        "!pip install -U -q PyDrive\n",
        "from pydrive.auth import GoogleAuth\n",
        "from pydrive.drive import GoogleDrive\n",
        "from google.colab import auth\n",
        "from oauth2client.client import GoogleCredentials\n",
        "\n",
        "# Authenticate and create the PyDrive client.\n",
        "# This only needs to be done once in a notebook.\n",
        "auth.authenticate_user()\n",
        "gauth = GoogleAuth()\n",
        "gauth.credentials = GoogleCredentials.get_application_default()\n",
        "drive = GoogleDrive(gauth)"
      ],
      "execution_count": 0,
      "outputs": []
    },
    {
      "cell_type": "markdown",
      "metadata": {
        "colab_type": "text",
        "id": "oh8hsNdiqgir"
      },
      "source": [
        "### Upload the file into GG Drive"
      ]
    },
    {
      "cell_type": "code",
      "metadata": {
        "colab_type": "code",
        "id": "ahF5NtIQoAGO",
        "colab": {}
      },
      "source": [
        "# Create & upload a file.\n",
        "uploaded = drive.CreateFile({'title': 'ssd_mobilenet_v1_0.75_depth_quantized_300x300_pets_sync.tar.gz'})\n",
        "uploaded.SetContentFile('ssd_mobilenet_v1_0.75_depth_quantized_300x300_pets_sync.tar.gz')\n",
        "uploaded.Upload()\n",
        "print('Uploaded file with ID {}'.format(uploaded.get('id')))"
      ],
      "execution_count": 0,
      "outputs": []
    },
    {
      "cell_type": "markdown",
      "metadata": {
        "colab_type": "text",
        "id": "Px3M77FuvCLt"
      },
      "source": [
        "# 8*.Continue training in other session \n",
        "(run only if you want to continue train current in next session)"
      ]
    },
    {
      "cell_type": "markdown",
      "metadata": {
        "id": "MAT9WdSbBkwf",
        "colab_type": "text"
      },
      "source": [
        "## Zip train folder to upload"
      ]
    },
    {
      "cell_type": "code",
      "metadata": {
        "id": "WwYn6khzBh9J",
        "colab_type": "code",
        "colab": {}
      },
      "source": [
        "!tar -zcvf train_ssd_mobilenet_v1_0.75_depth_quantized_300x300_pets_sync.tar.gz train"
      ],
      "execution_count": 0,
      "outputs": []
    },
    {
      "cell_type": "markdown",
      "metadata": {
        "id": "TgpZBVOjB9qN",
        "colab_type": "text"
      },
      "source": [
        "## Upload to Drive"
      ]
    },
    {
      "cell_type": "code",
      "metadata": {
        "id": "4gMSveuk32lS",
        "colab_type": "code",
        "colab": {}
      },
      "source": [
        "# Install the PyDrive wrapper & import libraries.\n",
        "# This only needs to be done once in a notebook.\n",
        "!pip install -U -q PyDrive\n",
        "from pydrive.auth import GoogleAuth\n",
        "from pydrive.drive import GoogleDrive\n",
        "from google.colab import auth\n",
        "from oauth2client.client import GoogleCredentials\n",
        "\n",
        "# Authenticate and create the PyDrive client.\n",
        "# This only needs to be done once in a notebook.\n",
        "auth.authenticate_user()\n",
        "gauth = GoogleAuth()\n",
        "gauth.credentials = GoogleCredentials.get_application_default()\n",
        "drive = GoogleDrive(gauth)"
      ],
      "execution_count": 0,
      "outputs": []
    },
    {
      "cell_type": "code",
      "metadata": {
        "colab_type": "code",
        "id": "jgB4LEqlvRaj",
        "colab": {}
      },
      "source": [
        "# Create & upload a file.\n",
        "uploaded = drive.CreateFile({'title': 'train_ssd_mobilenet_v1_0.75_depth_quantized_300x300_pets_sync.tar.gz'})\n",
        "uploaded.SetContentFile('train_ssd_mobilenet_v1_0.75_depth_quantized_300x300_pets_sync.tar.gz')\n",
        "uploaded.Upload()\n",
        "print('Uploaded file with ID {}'.format(uploaded.get('id')))"
      ],
      "execution_count": 0,
      "outputs": []
    },
    {
      "cell_type": "markdown",
      "metadata": {
        "id": "cRi40egcEOgk",
        "colab_type": "text"
      },
      "source": [
        "# 9*.Get pre-session train folder from GG Drive\n",
        "(not run when this is first session of Colab)"
      ]
    },
    {
      "cell_type": "code",
      "metadata": {
        "id": "QlSfNCBpE5xt",
        "colab_type": "code",
        "colab": {}
      },
      "source": [
        "from google.colab import drive\n",
        "drive.mount('/gdrive')"
      ],
      "execution_count": 0,
      "outputs": []
    },
    {
      "cell_type": "code",
      "metadata": {
        "id": "-lL7pTwfFZh1",
        "colab_type": "code",
        "colab": {}
      },
      "source": [
        "!cp \"/gdrive/My Drive/train.tar.gz\" \"train.tar.gz\""
      ],
      "execution_count": 0,
      "outputs": []
    },
    {
      "cell_type": "code",
      "metadata": {
        "id": "Wz2N8ch9EXgO",
        "colab_type": "code",
        "colab": {}
      },
      "source": [
        "!tar -xvf train.tar.gz"
      ],
      "execution_count": 0,
      "outputs": []
    },
    {
      "cell_type": "markdown",
      "metadata": {
        "colab_type": "text",
        "id": "P5c2oTQ61-Lt"
      },
      "source": [
        "# Utility cells"
      ]
    },
    {
      "cell_type": "markdown",
      "metadata": {
        "id": "sFgWhzH4CamO",
        "colab_type": "text"
      },
      "source": [
        "## Monitor the loss convergence without tensorboard"
      ]
    },
    {
      "cell_type": "code",
      "metadata": {
        "id": "DtXYZd-SCcDK",
        "colab_type": "code",
        "colab": {}
      },
      "source": [
        "import tensorflow as tf\n",
        "import re\n",
        "\n",
        "\n",
        "for event in tf.train.summary_iterator('train/events.out.tfevents.1525935471.f00cf4d2a1b5'):\n",
        "    for value in event.summary.value:\n",
        "        if value.tag == 'Losses/Loss/RPNLoss/objectness_loss':\n",
        "            if value.HasField('simple_value'):\n",
        "                print(value.simple_value)"
      ],
      "execution_count": 0,
      "outputs": []
    },
    {
      "cell_type": "markdown",
      "metadata": {
        "id": "bHyyVMuACdIt",
        "colab_type": "text"
      },
      "source": [
        "## Show how long you have use this session"
      ]
    },
    {
      "cell_type": "code",
      "metadata": {
        "colab_type": "code",
        "id": "dzXuKKJbmxa_",
        "colab": {}
      },
      "source": [
        "!uptime"
      ],
      "execution_count": 0,
      "outputs": []
    }
  ]
}